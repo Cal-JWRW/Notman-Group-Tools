{
 "cells": [
  {
   "cell_type": "code",
   "execution_count": 1,
   "id": "e70b0d18-db7d-4ded-8832-f47c969eab97",
   "metadata": {},
   "outputs": [],
   "source": [
    "import numpy as np\n",
    "from DHAM import Build_Matrices\n",
    "from DHAM import Optimize_Dhamed\n",
    "from DHAM import DHAM\n",
    "import pandas as pd\n",
    "from tqdm import tqdm\n",
    "import matplotlib.pyplot as plt\n",
    "from scipy.linalg import eig\n",
    "from scipy.optimize import minimize"
   ]
  },
  {
   "cell_type": "code",
   "execution_count": 2,
   "id": "da3b977d-dda2-45ab-acd8-e6aefd554596",
   "metadata": {},
   "outputs": [],
   "source": [
    "Temp = 303.15\n",
    "with open('px.dat') as f:\n",
    "    px = [line.rstrip() for line in f]"
   ]
  },
  {
   "cell_type": "code",
   "execution_count": 3,
   "id": "118d3638-7329-4473-ae7f-99d755090812",
   "metadata": {},
   "outputs": [
    {
     "name": "stderr",
     "output_type": "stream",
     "text": [
      "<>:11: SyntaxWarning: invalid escape sequence '\\s'\n",
      "<>:13: SyntaxWarning: invalid escape sequence '\\s'\n",
      "<>:11: SyntaxWarning: invalid escape sequence '\\s'\n",
      "<>:13: SyntaxWarning: invalid escape sequence '\\s'\n",
      "/tmp/ipykernel_374095/275611899.py:11: SyntaxWarning: invalid escape sequence '\\s'\n",
      "  trj_total = np.abs(np.asarray(pd.read_table(i, skiprows=17, sep='\\s+', header=None)[1]))\n",
      "/tmp/ipykernel_374095/275611899.py:13: SyntaxWarning: invalid escape sequence '\\s'\n",
      "  trj_total = np.vstack((trj_total, np.abs(np.asarray(pd.read_table(i, skiprows=17, sep='\\s+', header=None)[1]))))\n",
      "100%|███████████████████████████████████████████| 81/81 [00:17<00:00,  4.61it/s]\n"
     ]
    }
   ],
   "source": [
    "nbins = 200\n",
    "lag = 450\n",
    "\n",
    "states = np.linspace(0, 40.0, nbins)\n",
    "\n",
    "Biasing_Pot = 5000*0.00239\n",
    "trj_total=[]\n",
    "count = 0\n",
    "for i in tqdm(px):\n",
    "    print(np.abs(np.asarray(pd.read_table(i, skiprows=17, sep='\\s+', header=None)[1])\n",
    "    if count == 0:\n",
    "        trj_total = np.abs(np.asarray(pd.read_table(i, skiprows=17, sep='\\s+', header=None)[1]))\n",
    "    else:\n",
    "        trj_total = np.vstack((trj_total, np.abs(np.asarray(pd.read_table(i, skiprows=17, sep='\\s+', header=None)[1]))))\n",
    "    count += 1\n",
    "\n",
    "\n",
    "trj_total = np.asarray(trj_total) \n",
    "trj_digitized = np.digitize(trj_total[:, :], states)\n",
    "sumtr, trvec = Build_Matrices.count_transitions(trj_digitized, nbins, lag, endpt=None)"
   ]
  },
  {
   "cell_type": "code",
   "execution_count": 25,
   "id": "53470ce9-73e4-4609-a149-dd4f4fce62ae",
   "metadata": {},
   "outputs": [
    {
     "name": "stdout",
     "output_type": "stream",
     "text": [
      "(81, 200)\n",
      "[      0       0       0       0  222645 1176906       0       0       0\n",
      "       0       0       0       0       0       0       0       0       0\n",
      "       0       0       0       0       0       0       0       0       0\n",
      "       0       0       0       0       0       0       0       0       0\n",
      "       0       0       0       0       0       0       0       0       0\n",
      "       0       0       0       0       0       0       0       0       0\n",
      "       0       0       0       0       0       0       0       0       0\n",
      "       0       0       0       0       0       0       0       0       0\n",
      "       0       0       0       0       0       0       0       0       0\n",
      "       0       0       0       0       0       0       0       0       0\n",
      "       0       0       0       0       0       0       0       0       0\n",
      "       0       0       0       0       0       0       0       0       0\n",
      "       0       0       0       0       0       0       0       0       0\n",
      "       0       0       0       0       0       0       0       0       0\n",
      "       0       0       0       0       0       0       0       0       0\n",
      "       0       0       0       0       0       0       0       0       0\n",
      "       0       0       0       0       0       0       0       0       0\n",
      "       0       0       0       0       0       0       0       0       0\n",
      "       0       0       0       0       0       0       0       0       0\n",
      "       0       0       0       0       0       0       0       0       0\n",
      "       0       0       0       0       0       0       0       0       0\n",
      "       0       0       0       0       0       0       0       0       0\n",
      "       0       0]\n"
     ]
    }
   ],
   "source": [
    "print(trvec.shape)\n",
    "print(trvec[30])"
   ]
  },
  {
   "cell_type": "code",
   "execution_count": 5,
   "id": "5c0fd09a-5a7f-4997-895f-cd6bd7342aa7",
   "metadata": {},
   "outputs": [
    {
     "name": "stderr",
     "output_type": "stream",
     "text": [
      "/home/chem/msuttg/REBECCA_NOTMAN_TOOLS/Notman-Group-Tools/DHAM_TESTING/DHAM/DHAM.py:43: RuntimeWarning: invalid value encountered in divide\n",
      "  MM = MM / np.sum(MM, axis=1)[:, None]\n"
     ]
    }
   ],
   "source": [
    "MM = DHAM.Initial_MM(sumtr, trvec, Biasing_Pot, states, trj_total, Temp)"
   ]
  },
  {
   "cell_type": "code",
   "execution_count": 18,
   "id": "30966d24-2c73-4411-9c90-bd4e26fae6c5",
   "metadata": {},
   "outputs": [
    {
     "name": "stdout",
     "output_type": "stream",
     "text": [
      "(200, 200)\n",
      "[[0.95800303 0.04199697 0.         ... 0.         0.         0.        ]\n",
      " [0.04197915 0.91516191 0.04285894 ... 0.         0.         0.        ]\n",
      " [0.         0.04283229 0.9134324  ... 0.         0.         0.        ]\n",
      " ...\n",
      " [       nan        nan        nan ...        nan        nan        nan]\n",
      " [       nan        nan        nan ...        nan        nan        nan]\n",
      " [       nan        nan        nan ...        nan        nan        nan]]\n"
     ]
    }
   ],
   "source": [
    "print(MM.shape)\n",
    "print(MM)"
   ]
  },
  {
   "cell_type": "code",
   "execution_count": 20,
   "id": "2ae74900-7a9c-4224-a8dd-eadf5d7c2587",
   "metadata": {},
   "outputs": [
    {
     "ename": "ValueError",
     "evalue": "array must not contain infs or NaNs",
     "output_type": "error",
     "traceback": [
      "\u001b[0;31m---------------------------------------------------------------------------\u001b[0m",
      "\u001b[0;31mValueError\u001b[0m                                Traceback (most recent call last)",
      "Cell \u001b[0;32mIn[20], line 2\u001b[0m\n\u001b[1;32m      1\u001b[0m M\u001b[38;5;241m=\u001b[39mMM\n\u001b[0;32m----> 2\u001b[0m d, v \u001b[38;5;241m=\u001b[39m \u001b[43meig\u001b[49m\u001b[43m(\u001b[49m\u001b[43mnp\u001b[49m\u001b[38;5;241;43m.\u001b[39;49m\u001b[43mtranspose\u001b[49m\u001b[43m(\u001b[49m\u001b[43mM\u001b[49m\u001b[43m)\u001b[49m\u001b[43m)\u001b[49m\n\u001b[1;32m      3\u001b[0m mpeq \u001b[38;5;241m=\u001b[39m v[:, np\u001b[38;5;241m.\u001b[39mwhere(d \u001b[38;5;241m==\u001b[39m np\u001b[38;5;241m.\u001b[39mmax(d))[\u001b[38;5;241m0\u001b[39m][\u001b[38;5;241m0\u001b[39m]]\n\u001b[1;32m      4\u001b[0m mpeq \u001b[38;5;241m=\u001b[39m mpeq \u001b[38;5;241m/\u001b[39m np\u001b[38;5;241m.\u001b[39msum(mpeq)\n",
      "File \u001b[0;32m~/miniconda3/envs/kaggle/lib/python3.12/site-packages/scipy/linalg/_decomp.py:215\u001b[0m, in \u001b[0;36meig\u001b[0;34m(a, b, left, right, overwrite_a, overwrite_b, check_finite, homogeneous_eigvals)\u001b[0m\n\u001b[1;32m    117\u001b[0m \u001b[38;5;28;01mdef\u001b[39;00m \u001b[38;5;21meig\u001b[39m(a, b\u001b[38;5;241m=\u001b[39m\u001b[38;5;28;01mNone\u001b[39;00m, left\u001b[38;5;241m=\u001b[39m\u001b[38;5;28;01mFalse\u001b[39;00m, right\u001b[38;5;241m=\u001b[39m\u001b[38;5;28;01mTrue\u001b[39;00m, overwrite_a\u001b[38;5;241m=\u001b[39m\u001b[38;5;28;01mFalse\u001b[39;00m,\n\u001b[1;32m    118\u001b[0m         overwrite_b\u001b[38;5;241m=\u001b[39m\u001b[38;5;28;01mFalse\u001b[39;00m, check_finite\u001b[38;5;241m=\u001b[39m\u001b[38;5;28;01mTrue\u001b[39;00m, homogeneous_eigvals\u001b[38;5;241m=\u001b[39m\u001b[38;5;28;01mFalse\u001b[39;00m):\n\u001b[1;32m    119\u001b[0m \u001b[38;5;250m    \u001b[39m\u001b[38;5;124;03m\"\"\"\u001b[39;00m\n\u001b[1;32m    120\u001b[0m \u001b[38;5;124;03m    Solve an ordinary or generalized eigenvalue problem of a square matrix.\u001b[39;00m\n\u001b[1;32m    121\u001b[0m \n\u001b[0;32m   (...)\u001b[0m\n\u001b[1;32m    213\u001b[0m \n\u001b[1;32m    214\u001b[0m \u001b[38;5;124;03m    \"\"\"\u001b[39;00m\n\u001b[0;32m--> 215\u001b[0m     a1 \u001b[38;5;241m=\u001b[39m \u001b[43m_asarray_validated\u001b[49m\u001b[43m(\u001b[49m\u001b[43ma\u001b[49m\u001b[43m,\u001b[49m\u001b[43m \u001b[49m\u001b[43mcheck_finite\u001b[49m\u001b[38;5;241;43m=\u001b[39;49m\u001b[43mcheck_finite\u001b[49m\u001b[43m)\u001b[49m\n\u001b[1;32m    216\u001b[0m     \u001b[38;5;28;01mif\u001b[39;00m \u001b[38;5;28mlen\u001b[39m(a1\u001b[38;5;241m.\u001b[39mshape) \u001b[38;5;241m!=\u001b[39m \u001b[38;5;241m2\u001b[39m \u001b[38;5;129;01mor\u001b[39;00m a1\u001b[38;5;241m.\u001b[39mshape[\u001b[38;5;241m0\u001b[39m] \u001b[38;5;241m!=\u001b[39m a1\u001b[38;5;241m.\u001b[39mshape[\u001b[38;5;241m1\u001b[39m]:\n\u001b[1;32m    217\u001b[0m         \u001b[38;5;28;01mraise\u001b[39;00m \u001b[38;5;167;01mValueError\u001b[39;00m(\u001b[38;5;124m'\u001b[39m\u001b[38;5;124mexpected square matrix\u001b[39m\u001b[38;5;124m'\u001b[39m)\n",
      "File \u001b[0;32m~/miniconda3/envs/kaggle/lib/python3.12/site-packages/scipy/_lib/_util.py:321\u001b[0m, in \u001b[0;36m_asarray_validated\u001b[0;34m(a, check_finite, sparse_ok, objects_ok, mask_ok, as_inexact)\u001b[0m\n\u001b[1;32m    319\u001b[0m         \u001b[38;5;28;01mraise\u001b[39;00m \u001b[38;5;167;01mValueError\u001b[39;00m(\u001b[38;5;124m'\u001b[39m\u001b[38;5;124mmasked arrays are not supported\u001b[39m\u001b[38;5;124m'\u001b[39m)\n\u001b[1;32m    320\u001b[0m toarray \u001b[38;5;241m=\u001b[39m np\u001b[38;5;241m.\u001b[39masarray_chkfinite \u001b[38;5;28;01mif\u001b[39;00m check_finite \u001b[38;5;28;01melse\u001b[39;00m np\u001b[38;5;241m.\u001b[39masarray\n\u001b[0;32m--> 321\u001b[0m a \u001b[38;5;241m=\u001b[39m \u001b[43mtoarray\u001b[49m\u001b[43m(\u001b[49m\u001b[43ma\u001b[49m\u001b[43m)\u001b[49m\n\u001b[1;32m    322\u001b[0m \u001b[38;5;28;01mif\u001b[39;00m \u001b[38;5;129;01mnot\u001b[39;00m objects_ok:\n\u001b[1;32m    323\u001b[0m     \u001b[38;5;28;01mif\u001b[39;00m a\u001b[38;5;241m.\u001b[39mdtype \u001b[38;5;129;01mis\u001b[39;00m np\u001b[38;5;241m.\u001b[39mdtype(\u001b[38;5;124m'\u001b[39m\u001b[38;5;124mO\u001b[39m\u001b[38;5;124m'\u001b[39m):\n",
      "File \u001b[0;32m~/miniconda3/envs/kaggle/lib/python3.12/site-packages/numpy/lib/function_base.py:630\u001b[0m, in \u001b[0;36masarray_chkfinite\u001b[0;34m(a, dtype, order)\u001b[0m\n\u001b[1;32m    628\u001b[0m a \u001b[38;5;241m=\u001b[39m asarray(a, dtype\u001b[38;5;241m=\u001b[39mdtype, order\u001b[38;5;241m=\u001b[39morder)\n\u001b[1;32m    629\u001b[0m \u001b[38;5;28;01mif\u001b[39;00m a\u001b[38;5;241m.\u001b[39mdtype\u001b[38;5;241m.\u001b[39mchar \u001b[38;5;129;01min\u001b[39;00m typecodes[\u001b[38;5;124m'\u001b[39m\u001b[38;5;124mAllFloat\u001b[39m\u001b[38;5;124m'\u001b[39m] \u001b[38;5;129;01mand\u001b[39;00m \u001b[38;5;129;01mnot\u001b[39;00m np\u001b[38;5;241m.\u001b[39misfinite(a)\u001b[38;5;241m.\u001b[39mall():\n\u001b[0;32m--> 630\u001b[0m     \u001b[38;5;28;01mraise\u001b[39;00m \u001b[38;5;167;01mValueError\u001b[39;00m(\n\u001b[1;32m    631\u001b[0m         \u001b[38;5;124m\"\u001b[39m\u001b[38;5;124marray must not contain infs or NaNs\u001b[39m\u001b[38;5;124m\"\u001b[39m)\n\u001b[1;32m    632\u001b[0m \u001b[38;5;28;01mreturn\u001b[39;00m a\n",
      "\u001b[0;31mValueError\u001b[0m: array must not contain infs or NaNs"
     ]
    }
   ],
   "source": [
    "M=MM\n",
    "d, v = eig(np.transpose(M))\n",
    "mpeq = v[:, np.where(d == np.max(d))[0][0]]\n",
    "mpeq = mpeq / np.sum(mpeq)\n",
    "mU2 = -303.15*1.9872041E-3 * np.log(mpeq)\n",
    "mU2 -= np.min(mU2[:int(len(states))])"
   ]
  },
  {
   "cell_type": "code",
   "execution_count": 44,
   "id": "78fa871b-641c-4828-85f1-b0b9746d3f45",
   "metadata": {},
   "outputs": [
    {
     "name": "stdout",
     "output_type": "stream",
     "text": [
      "[-inf+nanj -inf+nanj -inf+nanj -inf+nanj -inf+nanj -inf+nanj -inf+nanj\n",
      " -inf+nanj -inf+nanj -inf+nanj -inf+nanj -inf+nanj -inf+nanj -inf+nanj\n",
      " -inf+nanj -inf+nanj -inf+nanj -inf+nanj -inf+nanj -inf+nanj -inf+nanj\n",
      " -inf+nanj -inf+nanj -inf+nanj -inf+nanj -inf+nanj -inf+nanj -inf+nanj\n",
      " -inf+nanj -inf+nanj -inf+nanj -inf+nanj -inf+nanj -inf+nanj -inf+nanj\n",
      " -inf+nanj -inf+nanj -inf+nanj -inf+nanj -inf+nanj -inf+nanj -inf+nanj\n",
      " -inf+nanj -inf+nanj -inf+nanj -inf+nanj -inf+nanj -inf+nanj -inf+nanj\n",
      " -inf+nanj -inf+nanj -inf+nanj -inf+nanj -inf+nanj -inf+nanj -inf+nanj\n",
      " -inf+nanj -inf+nanj -inf+nanj -inf+nanj -inf+nanj -inf+nanj -inf+nanj\n",
      " -inf+nanj -inf+nanj -inf+nanj -inf+nanj -inf+nanj -inf+nanj -inf+nanj\n",
      " -inf+nanj -inf+nanj -inf+nanj -inf+nanj -inf+nanj -inf+nanj -inf+nanj\n",
      " -inf+nanj -inf+nanj -inf+nanj -inf+nanj -inf+nanj -inf+nanj -inf+nanj\n",
      " -inf+nanj -inf+nanj -inf+nanj -inf+nanj -inf+nanj -inf+nanj -inf+nanj\n",
      " -inf+nanj -inf+nanj -inf+nanj -inf+nanj -inf+nanj -inf+nanj -inf+nanj\n",
      " -inf+nanj -inf+nanj -inf+nanj -inf+nanj -inf+nanj -inf+nanj -inf+nanj\n",
      " -inf+nanj -inf+nanj -inf+nanj -inf+nanj -inf+nanj -inf+nanj -inf+nanj\n",
      " -inf+nanj -inf+nanj -inf+nanj -inf+nanj -inf+nanj -inf+nanj -inf+nanj\n",
      " -inf+nanj -inf+nanj -inf+nanj -inf+nanj -inf+nanj -inf+nanj -inf+nanj\n",
      " -inf+nanj -inf+nanj -inf+nanj -inf+nanj -inf+nanj -inf+nanj -inf+nanj\n",
      " -inf+nanj -inf+nanj -inf+nanj -inf+nanj -inf+nanj -inf+nanj -inf+nanj\n",
      " -inf+nanj -inf+nanj -inf+nanj -inf+nanj -inf+nanj -inf+nanj -inf+nanj\n",
      "  nan+nanj  nan+nanj  nan+nanj]\n"
     ]
    }
   ],
   "source": [
    "print(mU2)"
   ]
  },
  {
   "cell_type": "code",
   "execution_count": 45,
   "id": "f5b8ba19-3fa9-48c5-8bc5-9643277b3b0c",
   "metadata": {},
   "outputs": [
    {
     "name": "stderr",
     "output_type": "stream",
     "text": [
      "/home/chem/msuttg/miniconda3/envs/kaggle/lib/python3.12/site-packages/matplotlib/cbook.py:1699: ComplexWarning: Casting complex values to real discards the imaginary part\n",
      "  return math.isfinite(val)\n",
      "/home/chem/msuttg/miniconda3/envs/kaggle/lib/python3.12/site-packages/matplotlib/cbook.py:1345: ComplexWarning: Casting complex values to real discards the imaginary part\n",
      "  return np.asarray(x, float)\n"
     ]
    },
    {
     "data": {
      "image/png": "[encoded data removed]",
      "text/plain": [
       "<Figure size 640x480 with 1 Axes>"
      ]
     },
     "metadata": {},
     "output_type": "display_data"
    }
   ],
   "source": [
    "plt.plot(states, mU2*2.479)\n",
    "plt.show()"
   ]
  },
  {
   "cell_type": "code",
   "execution_count": null,
   "id": "23ded2d3-c9ef-41f6-b9c3-4a03657515e9",
   "metadata": {},
   "outputs": [],
   "source": []
  },
  {
   "cell_type": "code",
   "execution_count": null,
   "id": "675d8946-c68f-492d-9387-2a624122f201",
   "metadata": {},
   "outputs": [],
   "source": []
  },
  {
   "cell_type": "code",
   "execution_count": null,
   "id": "904362e0-ddbd-4e4a-b3b4-51f95294b705",
   "metadata": {},
   "outputs": [],
   "source": []
  },
  {
   "cell_type": "code",
   "execution_count": null,
   "id": "d10aba5a-babf-42ce-a41b-d6113dbedb2d",
   "metadata": {},
   "outputs": [],
   "source": []
  },
  {
   "cell_type": "code",
   "execution_count": null,
   "id": "c5442f9a-57b4-47b7-af56-5ad153d57fe6",
   "metadata": {},
   "outputs": [],
   "source": []
  },
  {
   "cell_type": "code",
   "execution_count": null,
   "id": "76f13b70-55c4-4a97-aaf6-3fa967aced55",
   "metadata": {},
   "outputs": [],
   "source": []
  },
  {
   "cell_type": "code",
   "execution_count": null,
   "id": "22dd2796-1db9-46df-bc98-ad6ff51ace56",
   "metadata": {},
   "outputs": [],
   "source": []
  },
  {
   "cell_type": "code",
   "execution_count": null,
   "id": "2f938b14-8b1d-4f2e-a556-c8a6d47cd1ed",
   "metadata": {},
   "outputs": [],
   "source": []
  }
 ],
 "metadata": {
  "kernelspec": {
   "display_name": "Python 3 (ipykernel)",
   "language": "python",
   "name": "python3"
  },
  "language_info": {
   "codemirror_mode": {
    "name": "ipython",
    "version": 3
   },
   "file_extension": ".py",
   "mimetype": "text/x-python",
   "name": "python",
   "nbconvert_exporter": "python",
   "pygments_lexer": "ipython3",
   "version": "3.12.3"
  }
 },
 "nbformat": 4,
 "nbformat_minor": 5
}
