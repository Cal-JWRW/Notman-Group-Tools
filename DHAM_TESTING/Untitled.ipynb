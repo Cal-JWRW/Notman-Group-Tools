{
 "cells": [
  {
   "cell_type": "code",
   "execution_count": 76,
   "id": "e70b0d18-db7d-4ded-8832-f47c969eab97",
   "metadata": {},
   "outputs": [],
   "source": [
    "import numpy as np\n",
    "from DHAM import Build_Matrices\n",
    "from DHAM import Optimize_Dhamed\n",
    "from DHAM import DHAM\n",
    "import pandas as pd\n",
    "from tqdm import tqdm\n",
    "import matplotlib.pyplot as plt\n",
    "from scipy.linalg import eig\n",
    "from scipy.optimize import minimize"
   ]
  },
  {
   "cell_type": "code",
   "execution_count": 77,
   "id": "da3b977d-dda2-45ab-acd8-e6aefd554596",
   "metadata": {},
   "outputs": [],
   "source": [
    "Temp = 303.15\n",
    "with open('px.dat') as f:\n",
    "    px = [line.rstrip() for line in f]"
   ]
  },
  {
   "cell_type": "code",
   "execution_count": 78,
   "id": "118d3638-7329-4473-ae7f-99d755090812",
   "metadata": {},
   "outputs": [
    {
     "name": "stderr",
     "output_type": "stream",
     "text": [
      "<>:10: SyntaxWarning: invalid escape sequence '\\s'\n",
      "<>:12: SyntaxWarning: invalid escape sequence '\\s'\n",
      "<>:14: SyntaxWarning: invalid escape sequence '\\s'\n",
      "<>:10: SyntaxWarning: invalid escape sequence '\\s'\n",
      "<>:12: SyntaxWarning: invalid escape sequence '\\s'\n",
      "<>:14: SyntaxWarning: invalid escape sequence '\\s'\n",
      "/tmp/ipykernel_374095/3976246017.py:10: SyntaxWarning: invalid escape sequence '\\s'\n",
      "  print(np.abs(np.asarray(pd.read_table(i, skiprows=17, sep='\\s+', header=None)[1]*10)))\n",
      "/tmp/ipykernel_374095/3976246017.py:12: SyntaxWarning: invalid escape sequence '\\s'\n",
      "  trj_total = np.abs(np.asarray(pd.read_table(i, skiprows=17, sep='\\s+', header=None)[1]*10))\n",
      "/tmp/ipykernel_374095/3976246017.py:14: SyntaxWarning: invalid escape sequence '\\s'\n",
      "  trj_total = np.vstack((trj_total, np.abs(np.asarray(pd.read_table(i, skiprows=17, sep='\\s+', header=None)[1]*10))))\n",
      "  1%|▌                                           | 1/81 [00:00<00:25,  3.19it/s]"
     ]
    },
    {
     "name": "stdout",
     "output_type": "stream",
     "text": [
      "[39.5855 39.5773 39.6034 ... 39.362  39.4592 39.4449]\n"
     ]
    },
    {
     "name": "stderr",
     "output_type": "stream",
     "text": [
      "  2%|█                                           | 2/81 [00:00<00:24,  3.18it/s]"
     ]
    },
    {
     "name": "stdout",
     "output_type": "stream",
     "text": [
      "[38.585  38.5456 38.5652 ... 38.776  38.716  38.7504]\n"
     ]
    },
    {
     "name": "stderr",
     "output_type": "stream",
     "text": [
      "  4%|█▋                                          | 3/81 [00:00<00:24,  3.19it/s]"
     ]
    },
    {
     "name": "stdout",
     "output_type": "stream",
     "text": [
      "[37.5853 37.5772 37.5572 ... 37.508  37.5372 37.5659]\n"
     ]
    },
    {
     "name": "stderr",
     "output_type": "stream",
     "text": [
      "  5%|██▏                                         | 4/81 [00:01<00:23,  3.22it/s]"
     ]
    },
    {
     "name": "stdout",
     "output_type": "stream",
     "text": [
      "[36.5857 36.6036 36.6091 ... 36.6411 36.585  36.4916]\n"
     ]
    },
    {
     "name": "stderr",
     "output_type": "stream",
     "text": [
      "  6%|██▋                                         | 5/81 [00:01<00:23,  3.22it/s]"
     ]
    },
    {
     "name": "stdout",
     "output_type": "stream",
     "text": [
      "[35.5856 35.5789 35.5739 ... 35.471  35.3774 35.3383]\n"
     ]
    },
    {
     "name": "stderr",
     "output_type": "stream",
     "text": [
      "  7%|███▎                                        | 6/81 [00:01<00:23,  3.20it/s]"
     ]
    },
    {
     "name": "stdout",
     "output_type": "stream",
     "text": [
      "[34.5856 34.6389 34.6886 ... 34.7158 34.6698 34.6366]\n"
     ]
    },
    {
     "name": "stderr",
     "output_type": "stream",
     "text": [
      "  9%|███▊                                        | 7/81 [00:02<00:23,  3.20it/s]"
     ]
    },
    {
     "name": "stdout",
     "output_type": "stream",
     "text": [
      "[33.5845 33.5824 33.5742 ... 33.6421 33.6478 33.6432]\n"
     ]
    },
    {
     "name": "stderr",
     "output_type": "stream",
     "text": [
      " 10%|████▎                                       | 8/81 [00:02<00:22,  3.19it/s]"
     ]
    },
    {
     "name": "stdout",
     "output_type": "stream",
     "text": [
      "[32.5852 32.5642 32.585  ... 32.2779 32.2127 32.1952]\n"
     ]
    },
    {
     "name": "stderr",
     "output_type": "stream",
     "text": [
      " 11%|████▉                                       | 9/81 [00:02<00:22,  3.15it/s]"
     ]
    },
    {
     "name": "stdout",
     "output_type": "stream",
     "text": [
      "[31.5846 31.5738 31.6663 ... 31.4797 31.4914 31.437 ]\n"
     ]
    },
    {
     "name": "stderr",
     "output_type": "stream",
     "text": [
      " 12%|█████▎                                     | 10/81 [00:03<00:22,  3.13it/s]"
     ]
    },
    {
     "name": "stdout",
     "output_type": "stream",
     "text": [
      "[30.5857 30.5715 30.699  ... 30.7269 30.7629 30.7747]\n"
     ]
    },
    {
     "name": "stderr",
     "output_type": "stream",
     "text": [
      " 14%|█████▊                                     | 11/81 [00:03<00:22,  3.11it/s]"
     ]
    },
    {
     "name": "stdout",
     "output_type": "stream",
     "text": [
      "[29.5845 29.57   29.4774 ... 29.7417 29.7272 29.6955]\n"
     ]
    },
    {
     "name": "stderr",
     "output_type": "stream",
     "text": [
      " 15%|██████▎                                    | 12/81 [00:03<00:22,  3.09it/s]"
     ]
    },
    {
     "name": "stdout",
     "output_type": "stream",
     "text": [
      "[28.5852 28.625  28.7069 ... 28.512  28.5713 28.6106]\n"
     ]
    },
    {
     "name": "stderr",
     "output_type": "stream",
     "text": [
      " 16%|██████▉                                    | 13/81 [00:04<00:22,  3.07it/s]"
     ]
    },
    {
     "name": "stdout",
     "output_type": "stream",
     "text": [
      "[27.5845 27.597  27.5955 ... 27.6095 27.6318 27.7428]\n"
     ]
    },
    {
     "name": "stderr",
     "output_type": "stream",
     "text": [
      " 17%|███████▍                                   | 14/81 [00:04<00:21,  3.06it/s]"
     ]
    },
    {
     "name": "stdout",
     "output_type": "stream",
     "text": [
      "[26.5853 26.5911 26.5717 ... 27.033  26.9722 26.9699]\n"
     ]
    },
    {
     "name": "stderr",
     "output_type": "stream",
     "text": [
      " 19%|███████▉                                   | 15/81 [00:04<00:21,  3.05it/s]"
     ]
    },
    {
     "name": "stdout",
     "output_type": "stream",
     "text": [
      "[25.5862 25.6089 25.7088 ... 25.4294 25.3259 25.2149]\n"
     ]
    },
    {
     "name": "stderr",
     "output_type": "stream",
     "text": [
      " 20%|████████▍                                  | 16/81 [00:05<00:21,  3.05it/s]"
     ]
    },
    {
     "name": "stdout",
     "output_type": "stream",
     "text": [
      "[24.5851 24.6324 24.7463 ... 24.258  24.3112 24.4339]\n"
     ]
    },
    {
     "name": "stderr",
     "output_type": "stream",
     "text": [
      " 21%|█████████                                  | 17/81 [00:05<00:21,  3.01it/s]"
     ]
    },
    {
     "name": "stdout",
     "output_type": "stream",
     "text": [
      "[23.5852 23.543  23.4725 ... 23.9254 24.0418 24.0165]\n"
     ]
    },
    {
     "name": "stderr",
     "output_type": "stream",
     "text": [
      " 22%|█████████▌                                 | 18/81 [00:05<00:20,  3.01it/s]"
     ]
    },
    {
     "name": "stdout",
     "output_type": "stream",
     "text": [
      "[22.585  22.5462 22.5394 ... 22.3502 22.3446 22.36  ]\n"
     ]
    },
    {
     "name": "stderr",
     "output_type": "stream",
     "text": [
      " 23%|██████████                                 | 19/81 [00:06<00:20,  3.00it/s]"
     ]
    },
    {
     "name": "stdout",
     "output_type": "stream",
     "text": [
      "[21.5846 21.5176 21.4858 ... 21.3528 21.3019 21.4608]\n"
     ]
    },
    {
     "name": "stderr",
     "output_type": "stream",
     "text": [
      " 25%|██████████▌                                | 20/81 [00:06<00:20,  2.91it/s]"
     ]
    },
    {
     "name": "stdout",
     "output_type": "stream",
     "text": [
      "[20.5846 20.5707 20.5631 ... 20.2258 20.2146 20.2993]\n"
     ]
    },
    {
     "name": "stderr",
     "output_type": "stream",
     "text": [
      " 26%|███████████▏                               | 21/81 [00:06<00:20,  2.88it/s]"
     ]
    },
    {
     "name": "stdout",
     "output_type": "stream",
     "text": [
      "[19.5857 19.5535 19.4869 ... 19.3954 19.3571 19.3421]\n"
     ]
    },
    {
     "name": "stderr",
     "output_type": "stream",
     "text": [
      " 27%|███████████▋                               | 22/81 [00:07<00:20,  2.87it/s]"
     ]
    },
    {
     "name": "stdout",
     "output_type": "stream",
     "text": [
      "[18.5849 18.5712 18.5047 ... 18.5417 18.6282 18.6093]\n"
     ]
    },
    {
     "name": "stderr",
     "output_type": "stream",
     "text": [
      " 28%|████████████▏                              | 23/81 [00:07<00:20,  2.86it/s]"
     ]
    },
    {
     "name": "stdout",
     "output_type": "stream",
     "text": [
      "[17.5855 17.6567 17.788  ... 17.7715 17.649  17.7117]\n"
     ]
    },
    {
     "name": "stderr",
     "output_type": "stream",
     "text": [
      " 30%|████████████▋                              | 24/81 [00:07<00:20,  2.84it/s]"
     ]
    },
    {
     "name": "stdout",
     "output_type": "stream",
     "text": [
      "[16.5862 16.5536 16.4973 ... 16.0937 16.1216 16.2062]\n"
     ]
    },
    {
     "name": "stderr",
     "output_type": "stream",
     "text": [
      " 31%|█████████████▎                             | 25/81 [00:08<00:19,  2.82it/s]"
     ]
    },
    {
     "name": "stdout",
     "output_type": "stream",
     "text": [
      "[15.5855 15.6182 15.6653 ... 15.7168 15.6152 15.4858]\n"
     ]
    },
    {
     "name": "stderr",
     "output_type": "stream",
     "text": [
      " 32%|█████████████▊                             | 26/81 [00:08<00:19,  2.80it/s]"
     ]
    },
    {
     "name": "stdout",
     "output_type": "stream",
     "text": [
      "[14.5848 14.6686 14.7915 ... 15.2396 15.2883 15.1583]\n"
     ]
    },
    {
     "name": "stderr",
     "output_type": "stream",
     "text": [
      " 33%|██████████████▎                            | 27/81 [00:09<00:19,  2.78it/s]"
     ]
    },
    {
     "name": "stdout",
     "output_type": "stream",
     "text": [
      "[13.585  13.5935 13.6205 ... 13.5253 13.4712 13.4436]\n"
     ]
    },
    {
     "name": "stderr",
     "output_type": "stream",
     "text": [
      " 35%|██████████████▊                            | 28/81 [00:09<00:19,  2.78it/s]"
     ]
    },
    {
     "name": "stdout",
     "output_type": "stream",
     "text": [
      "[12.585  12.5905 12.5382 ... 12.7633 12.7711 12.7239]\n"
     ]
    },
    {
     "name": "stderr",
     "output_type": "stream",
     "text": [
      " 36%|███████████████▍                           | 29/81 [00:09<00:18,  2.78it/s]"
     ]
    },
    {
     "name": "stdout",
     "output_type": "stream",
     "text": [
      "[11.5856 11.5954 11.6089 ... 11.6742 11.659  11.7107]\n"
     ]
    },
    {
     "name": "stderr",
     "output_type": "stream",
     "text": [
      " 37%|███████████████▉                           | 30/81 [00:10<00:18,  2.79it/s]"
     ]
    },
    {
     "name": "stdout",
     "output_type": "stream",
     "text": [
      "[10.5855 10.5724 10.476  ... 10.7695 10.728  10.6945]\n"
     ]
    },
    {
     "name": "stderr",
     "output_type": "stream",
     "text": [
      " 38%|████████████████▍                          | 31/81 [00:10<00:17,  2.80it/s]"
     ]
    },
    {
     "name": "stdout",
     "output_type": "stream",
     "text": [
      "[9.5851  9.58853 9.56843 ... 9.58808 9.62695 9.61018]\n",
      "[8.5862  8.53908 8.42647 ... 8.17795 8.25365 8.30145]\n"
     ]
    },
    {
     "name": "stderr",
     "output_type": "stream",
     "text": [
      " 41%|█████████████████▌                         | 33/81 [00:11<00:17,  2.80it/s]"
     ]
    },
    {
     "name": "stdout",
     "output_type": "stream",
     "text": [
      "[7.58495 7.58112 7.52009 ... 7.7785  7.73967 7.6073 ]\n",
      "[6.58561 6.56173 6.48958 ... 6.48573 6.60621 6.69184]\n"
     ]
    },
    {
     "name": "stderr",
     "output_type": "stream",
     "text": [
      " 42%|██████████████████                         | 34/81 [00:11<00:16,  2.80it/s]"
     ]
    },
    {
     "name": "stdout",
     "output_type": "stream",
     "text": [
      "[5.58579 5.56965 5.58811 ... 5.85327 5.62604 5.44073]\n"
     ]
    },
    {
     "name": "stderr",
     "output_type": "stream",
     "text": [
      " 43%|██████████████████▌                        | 35/81 [00:11<00:16,  2.78it/s]"
     ]
    },
    {
     "name": "stdout",
     "output_type": "stream",
     "text": [
      "[4.58484 4.55935 4.46963 ... 4.6129  4.62711 4.58531]\n"
     ]
    },
    {
     "name": "stderr",
     "output_type": "stream",
     "text": [
      " 44%|███████████████████                        | 36/81 [00:12<00:16,  2.77it/s]"
     ]
    },
    {
     "name": "stdout",
     "output_type": "stream",
     "text": [
      "[3.58538 3.57043 3.47602 ... 3.58291 3.62419 3.61492]\n"
     ]
    },
    {
     "name": "stderr",
     "output_type": "stream",
     "text": [
      " 46%|███████████████████▋                       | 37/81 [00:12<00:15,  2.77it/s]"
     ]
    },
    {
     "name": "stdout",
     "output_type": "stream",
     "text": [
      "[2.58584 2.55259 2.53318 ... 2.00091 2.0769  2.22412]\n"
     ]
    },
    {
     "name": "stderr",
     "output_type": "stream",
     "text": [
      " 47%|████████████████████▏                      | 38/81 [00:12<00:15,  2.76it/s]"
     ]
    },
    {
     "name": "stdout",
     "output_type": "stream",
     "text": [
      "[1.58508 1.61997 1.64808 ... 1.86056 1.83389 1.65914]\n"
     ]
    },
    {
     "name": "stderr",
     "output_type": "stream",
     "text": [
      " 48%|████████████████████▋                      | 39/81 [00:13<00:15,  2.76it/s]"
     ]
    },
    {
     "name": "stdout",
     "output_type": "stream",
     "text": [
      "[0.586093 0.601913 0.617274 ... 0.981751 0.971635 0.924792]\n"
     ]
    },
    {
     "name": "stderr",
     "output_type": "stream",
     "text": [
      " 49%|█████████████████████▏                     | 40/81 [00:13<00:15,  2.72it/s]"
     ]
    },
    {
     "name": "stdout",
     "output_type": "stream",
     "text": [
      "[0.414501 0.381575 0.358473 ... 0.626391 0.502619 0.34884 ]\n"
     ]
    },
    {
     "name": "stderr",
     "output_type": "stream",
     "text": [
      " 51%|█████████████████████▊                     | 41/81 [00:14<00:15,  2.62it/s]"
     ]
    },
    {
     "name": "stdout",
     "output_type": "stream",
     "text": [
      "[1.41416 1.43724 1.42951 ... 1.35976 1.21915 1.15435]\n"
     ]
    },
    {
     "name": "stderr",
     "output_type": "stream",
     "text": [
      " 52%|██████████████████████▎                    | 42/81 [00:14<00:15,  2.57it/s]"
     ]
    },
    {
     "name": "stdout",
     "output_type": "stream",
     "text": [
      "[2.41396 2.38382 2.26297 ... 2.72742 2.77158 2.78105]\n"
     ]
    },
    {
     "name": "stderr",
     "output_type": "stream",
     "text": [
      " 53%|██████████████████████▊                    | 43/81 [00:14<00:15,  2.53it/s]"
     ]
    },
    {
     "name": "stdout",
     "output_type": "stream",
     "text": [
      "[3.41592 3.42507 3.4511  ... 3.62504 3.67553 3.63304]\n"
     ]
    },
    {
     "name": "stderr",
     "output_type": "stream",
     "text": [
      " 54%|███████████████████████▎                   | 44/81 [00:15<00:14,  2.50it/s]"
     ]
    },
    {
     "name": "stdout",
     "output_type": "stream",
     "text": [
      "[4.41464 4.40092 4.34583 ... 4.63801 4.57509 4.41362]\n"
     ]
    },
    {
     "name": "stderr",
     "output_type": "stream",
     "text": [
      " 56%|███████████████████████▉                   | 45/81 [00:15<00:14,  2.48it/s]"
     ]
    },
    {
     "name": "stdout",
     "output_type": "stream",
     "text": [
      "[5.41517 5.36853 5.19286 ... 5.13214 5.06824 5.07577]\n"
     ]
    },
    {
     "name": "stderr",
     "output_type": "stream",
     "text": [
      " 57%|████████████████████████▍                  | 46/81 [00:16<00:14,  2.46it/s]"
     ]
    },
    {
     "name": "stdout",
     "output_type": "stream",
     "text": [
      "[6.41505 6.3515  6.1996  ... 6.05824 5.90044 5.75988]\n"
     ]
    },
    {
     "name": "stderr",
     "output_type": "stream",
     "text": [
      " 58%|████████████████████████▉                  | 47/81 [00:16<00:13,  2.44it/s]"
     ]
    },
    {
     "name": "stdout",
     "output_type": "stream",
     "text": [
      "[7.41461 7.37277 7.34277 ... 7.33013 7.40948 7.42581]\n"
     ]
    },
    {
     "name": "stderr",
     "output_type": "stream",
     "text": [
      " 59%|█████████████████████████▍                 | 48/81 [00:17<00:13,  2.44it/s]"
     ]
    },
    {
     "name": "stdout",
     "output_type": "stream",
     "text": [
      "[8.41491 8.47552 8.5804  ... 8.63423 8.68512 8.77264]\n"
     ]
    },
    {
     "name": "stderr",
     "output_type": "stream",
     "text": [
      " 60%|██████████████████████████                 | 49/81 [00:17<00:13,  2.45it/s]"
     ]
    },
    {
     "name": "stdout",
     "output_type": "stream",
     "text": [
      "[9.41349 9.45818 9.49138 ... 9.26205 9.35244 9.35687]\n"
     ]
    },
    {
     "name": "stderr",
     "output_type": "stream",
     "text": [
      " 62%|██████████████████████████▌                | 50/81 [00:17<00:12,  2.46it/s]"
     ]
    },
    {
     "name": "stdout",
     "output_type": "stream",
     "text": [
      "[10.4142 10.3724 10.2739 ... 10.4611 10.4338 10.514 ]\n"
     ]
    },
    {
     "name": "stderr",
     "output_type": "stream",
     "text": [
      " 63%|███████████████████████████                | 51/81 [00:18<00:12,  2.47it/s]"
     ]
    },
    {
     "name": "stdout",
     "output_type": "stream",
     "text": [
      "[11.4145 11.4338 11.5055 ... 11.2178 11.2811 11.4046]\n"
     ]
    },
    {
     "name": "stderr",
     "output_type": "stream",
     "text": [
      " 64%|███████████████████████████▌               | 52/81 [00:18<00:11,  2.46it/s]"
     ]
    },
    {
     "name": "stdout",
     "output_type": "stream",
     "text": [
      "[12.4156 12.3996 12.329  ... 12.6271 12.6736 12.6989]\n"
     ]
    },
    {
     "name": "stderr",
     "output_type": "stream",
     "text": [
      " 65%|████████████████████████████▏              | 53/81 [00:19<00:11,  2.47it/s]"
     ]
    },
    {
     "name": "stdout",
     "output_type": "stream",
     "text": [
      "[13.4143 13.4398 13.4282 ... 13.3696 13.4121 13.3888]\n"
     ]
    },
    {
     "name": "stderr",
     "output_type": "stream",
     "text": [
      " 67%|████████████████████████████▋              | 54/81 [00:19<00:10,  2.48it/s]"
     ]
    },
    {
     "name": "stdout",
     "output_type": "stream",
     "text": [
      "[14.4151 14.4113 14.4041 ... 14.0452 14.0507 14.0959]\n"
     ]
    },
    {
     "name": "stderr",
     "output_type": "stream",
     "text": [
      " 68%|█████████████████████████████▏             | 55/81 [00:19<00:10,  2.46it/s]"
     ]
    },
    {
     "name": "stdout",
     "output_type": "stream",
     "text": [
      "[15.4145 15.4207 15.4559 ... 15.658  15.6839 15.6958]\n"
     ]
    },
    {
     "name": "stderr",
     "output_type": "stream",
     "text": [
      " 69%|█████████████████████████████▋             | 56/81 [00:20<00:10,  2.44it/s]"
     ]
    },
    {
     "name": "stdout",
     "output_type": "stream",
     "text": [
      "[16.4142 16.4196 16.3937 ... 16.2822 16.2567 16.3194]\n"
     ]
    },
    {
     "name": "stderr",
     "output_type": "stream",
     "text": [
      " 70%|██████████████████████████████▎            | 57/81 [00:20<00:09,  2.43it/s]"
     ]
    },
    {
     "name": "stdout",
     "output_type": "stream",
     "text": [
      "[17.4152 17.4442 17.4749 ... 17.7366 17.6036 17.5901]\n"
     ]
    },
    {
     "name": "stderr",
     "output_type": "stream",
     "text": [
      " 72%|██████████████████████████████▊            | 58/81 [00:21<00:09,  2.44it/s]"
     ]
    },
    {
     "name": "stdout",
     "output_type": "stream",
     "text": [
      "[18.4138 18.3874 18.3868 ... 18.5615 18.6998 18.769 ]\n"
     ]
    },
    {
     "name": "stderr",
     "output_type": "stream",
     "text": [
      " 73%|███████████████████████████████▎           | 59/81 [00:21<00:09,  2.44it/s]"
     ]
    },
    {
     "name": "stdout",
     "output_type": "stream",
     "text": [
      "[19.4146 19.395  19.3487 ... 19.6119 19.5794 19.5063]\n"
     ]
    },
    {
     "name": "stderr",
     "output_type": "stream",
     "text": [
      " 74%|███████████████████████████████▊           | 60/81 [00:21<00:08,  2.44it/s]"
     ]
    },
    {
     "name": "stdout",
     "output_type": "stream",
     "text": [
      "[20.4156 20.4182 20.381  ... 20.7922 20.7341 20.7207]\n"
     ]
    },
    {
     "name": "stderr",
     "output_type": "stream",
     "text": [
      " 75%|████████████████████████████████▍          | 61/81 [00:22<00:08,  2.44it/s]"
     ]
    },
    {
     "name": "stdout",
     "output_type": "stream",
     "text": [
      "[21.4149 21.3705 21.321  ... 21.7315 21.8359 21.7757]\n"
     ]
    },
    {
     "name": "stderr",
     "output_type": "stream",
     "text": [
      " 77%|████████████████████████████████▉          | 62/81 [00:22<00:07,  2.43it/s]"
     ]
    },
    {
     "name": "stdout",
     "output_type": "stream",
     "text": [
      "[22.415  22.4584 22.5002 ... 22.6211 22.6388 22.6812]\n"
     ]
    },
    {
     "name": "stderr",
     "output_type": "stream",
     "text": [
      " 78%|█████████████████████████████████▍         | 63/81 [00:23<00:07,  2.43it/s]"
     ]
    },
    {
     "name": "stdout",
     "output_type": "stream",
     "text": [
      "[23.4155 23.4035 23.3591 ... 23.3803 23.4599 23.5138]\n"
     ]
    },
    {
     "name": "stderr",
     "output_type": "stream",
     "text": [
      " 79%|█████████████████████████████████▉         | 64/81 [00:23<00:07,  2.42it/s]"
     ]
    },
    {
     "name": "stdout",
     "output_type": "stream",
     "text": [
      "[24.4145 24.4195 24.467  ... 24.8686 24.8045 24.6814]\n"
     ]
    },
    {
     "name": "stderr",
     "output_type": "stream",
     "text": [
      " 80%|██████████████████████████████████▌        | 65/81 [00:23<00:06,  2.42it/s]"
     ]
    },
    {
     "name": "stdout",
     "output_type": "stream",
     "text": [
      "[25.415  25.4137 25.4426 ... 25.1902 25.1633 25.2642]\n"
     ]
    },
    {
     "name": "stderr",
     "output_type": "stream",
     "text": [
      " 81%|███████████████████████████████████        | 66/81 [00:24<00:06,  2.40it/s]"
     ]
    },
    {
     "name": "stdout",
     "output_type": "stream",
     "text": [
      "[26.4139 26.3783 26.388  ... 26.245  26.2461 26.2799]\n"
     ]
    },
    {
     "name": "stderr",
     "output_type": "stream",
     "text": [
      " 83%|███████████████████████████████████▌       | 67/81 [00:24<00:05,  2.38it/s]"
     ]
    },
    {
     "name": "stdout",
     "output_type": "stream",
     "text": [
      "[27.4144 27.3849 27.3072 ... 27.4235 27.4996 27.5552]\n"
     ]
    },
    {
     "name": "stderr",
     "output_type": "stream",
     "text": [
      " 84%|████████████████████████████████████       | 68/81 [00:25<00:05,  2.36it/s]"
     ]
    },
    {
     "name": "stdout",
     "output_type": "stream",
     "text": [
      "[28.4158 28.4858 28.5499 ... 28.223  28.2786 28.3525]\n"
     ]
    },
    {
     "name": "stderr",
     "output_type": "stream",
     "text": [
      " 85%|████████████████████████████████████▋      | 69/81 [00:25<00:05,  2.36it/s]"
     ]
    },
    {
     "name": "stdout",
     "output_type": "stream",
     "text": [
      "[29.4142 29.2996 29.2029 ... 29.4737 29.4187 29.2925]\n"
     ]
    },
    {
     "name": "stderr",
     "output_type": "stream",
     "text": [
      " 86%|█████████████████████████████████████▏     | 70/81 [00:26<00:04,  2.35it/s]"
     ]
    },
    {
     "name": "stdout",
     "output_type": "stream",
     "text": [
      "[30.4146 30.4151 30.361  ... 30.1784 30.139  30.2111]\n"
     ]
    },
    {
     "name": "stderr",
     "output_type": "stream",
     "text": [
      " 88%|█████████████████████████████████████▋     | 71/81 [00:26<00:04,  2.35it/s]"
     ]
    },
    {
     "name": "stdout",
     "output_type": "stream",
     "text": [
      "[31.4149 31.4002 31.3578 ... 31.3522 31.2513 31.3164]\n"
     ]
    },
    {
     "name": "stderr",
     "output_type": "stream",
     "text": [
      " 89%|██████████████████████████████████████▏    | 72/81 [00:26<00:03,  2.32it/s]"
     ]
    },
    {
     "name": "stdout",
     "output_type": "stream",
     "text": [
      "[32.4144 32.419  32.4321 ... 32.3909 32.3968 32.4603]\n"
     ]
    },
    {
     "name": "stderr",
     "output_type": "stream",
     "text": [
      " 90%|██████████████████████████████████████▊    | 73/81 [00:27<00:03,  2.31it/s]"
     ]
    },
    {
     "name": "stdout",
     "output_type": "stream",
     "text": [
      "[33.415  33.411  33.3431 ... 33.5041 33.5041 33.3721]\n"
     ]
    },
    {
     "name": "stderr",
     "output_type": "stream",
     "text": [
      " 91%|███████████████████████████████████████▎   | 74/81 [00:27<00:03,  2.27it/s]"
     ]
    },
    {
     "name": "stdout",
     "output_type": "stream",
     "text": [
      "[34.4158 34.4286 34.4496 ... 34.2085 34.3007 34.2586]\n"
     ]
    },
    {
     "name": "stderr",
     "output_type": "stream",
     "text": [
      " 93%|███████████████████████████████████████▊   | 75/81 [00:28<00:02,  2.27it/s]"
     ]
    },
    {
     "name": "stdout",
     "output_type": "stream",
     "text": [
      "[35.4146 35.4041 35.3781 ... 35.6352 35.6522 35.673 ]\n"
     ]
    },
    {
     "name": "stderr",
     "output_type": "stream",
     "text": [
      " 94%|████████████████████████████████████████▎  | 76/81 [00:28<00:02,  2.29it/s]"
     ]
    },
    {
     "name": "stdout",
     "output_type": "stream",
     "text": [
      "[36.4147 36.4678 36.5683 ... 36.4638 36.2931 36.1755]\n"
     ]
    },
    {
     "name": "stderr",
     "output_type": "stream",
     "text": [
      " 95%|████████████████████████████████████████▉  | 77/81 [00:29<00:01,  2.28it/s]"
     ]
    },
    {
     "name": "stdout",
     "output_type": "stream",
     "text": [
      "[37.415  37.4497 37.4309 ... 37.6262 37.5608 37.5506]\n"
     ]
    },
    {
     "name": "stderr",
     "output_type": "stream",
     "text": [
      " 96%|█████████████████████████████████████████▍ | 78/81 [00:29<00:01,  2.28it/s]"
     ]
    },
    {
     "name": "stdout",
     "output_type": "stream",
     "text": [
      "[38.4146 38.3919 38.3689 ... 38.4986 38.4479 38.4143]\n"
     ]
    },
    {
     "name": "stderr",
     "output_type": "stream",
     "text": [
      " 98%|█████████████████████████████████████████▉ | 79/81 [00:30<00:00,  2.26it/s]"
     ]
    },
    {
     "name": "stdout",
     "output_type": "stream",
     "text": [
      "[39.4144 39.4121 39.3848 ... 39.6164 39.6383 39.7148]\n"
     ]
    },
    {
     "name": "stderr",
     "output_type": "stream",
     "text": [
      " 99%|██████████████████████████████████████████▍| 80/81 [00:30<00:00,  2.26it/s]"
     ]
    },
    {
     "name": "stdout",
     "output_type": "stream",
     "text": [
      "[40.4151 40.4194 40.4981 ... 40.5525 40.7253 40.8828]\n"
     ]
    },
    {
     "name": "stderr",
     "output_type": "stream",
     "text": [
      "100%|███████████████████████████████████████████| 81/81 [00:30<00:00,  2.62it/s]\n"
     ]
    }
   ],
   "source": [
    "nbins = 200\n",
    "lag = 245\n",
    "\n",
    "states = np.linspace(0, 40.0, nbins)\n",
    "\n",
    "Biasing_Pot = 5000*0.00239\n",
    "trj_total=[]\n",
    "count = 0\n",
    "for i in tqdm(px):\n",
    "    print(np.abs(np.asarray(pd.read_table(i, skiprows=17, sep='\\s+', header=None)[1]*10)))\n",
    "    if count == 0:\n",
    "        trj_total = np.abs(np.asarray(pd.read_table(i, skiprows=17, sep='\\s+', header=None)[1]*10))\n",
    "    else:\n",
    "        trj_total = np.vstack((trj_total, np.abs(np.asarray(pd.read_table(i, skiprows=17, sep='\\s+', header=None)[1]*10))))\n",
    "    count += 1\n",
    "\n",
    "\n",
    "trj_total = np.asarray(trj_total) \n",
    "trj_digitized = np.digitize(trj_total[:, :], states)\n",
    "sumtr, trvec = Build_Matrices.count_transitions(trj_digitized, nbins, lag, endpt=None)"
   ]
  },
  {
   "cell_type": "code",
   "execution_count": 91,
   "id": "6608831d-0697-4262-8cda-8128254da2df",
   "metadata": {},
   "outputs": [
    {
     "name": "stdout",
     "output_type": "stream",
     "text": [
      "(200, 200)\n"
     ]
    }
   ],
   "source": [
    "print(sumtr.shape)"
   ]
  },
  {
   "cell_type": "code",
   "execution_count": 79,
   "id": "53470ce9-73e4-4609-a149-dd4f4fce62ae",
   "metadata": {},
   "outputs": [
    {
     "name": "stdout",
     "output_type": "stream",
     "text": [
      "(81, 200)\n",
      "[     0      0      0      0      0      0      0      0      0      0\n",
      "      0      0      0      0      0      0      0      0      0      0\n",
      "      0      0      0      0      0      0      0      0      0      0\n",
      "      0      0      0      0      0      0      0      0      0      0\n",
      "      0      1     71   2173  25251 145219 390004 482457 273703  71838\n",
      "   8500    519     19      1      0      0      0      0      0      0\n",
      "      0      0      0      0      0      0      0      0      0      0\n",
      "      0      0      0      0      0      0      0      0      0      0\n",
      "      0      0      0      0      0      0      0      0      0      0\n",
      "      0      0      0      0      0      0      0      0      0      0\n",
      "      0      0      0      0      0      0      0      0      0      0\n",
      "      0      0      0      0      0      0      0      0      0      0\n",
      "      0      0      0      0      0      0      0      0      0      0\n",
      "      0      0      0      0      0      0      0      0      0      0\n",
      "      0      0      0      0      0      0      0      0      0      0\n",
      "      0      0      0      0      0      0      0      0      0      0\n",
      "      0      0      0      0      0      0      0      0      0      0\n",
      "      0      0      0      0      0      0      0      0      0      0\n",
      "      0      0      0      0      0      0      0      0      0      0\n",
      "      0      0      0      0      0      0      0      0      0      0]\n"
     ]
    }
   ],
   "source": [
    "print(trvec.shape)\n",
    "print(trvec[30])"
   ]
  },
  {
   "cell_type": "code",
   "execution_count": 80,
   "id": "5c0fd09a-5a7f-4997-895f-cd6bd7342aa7",
   "metadata": {},
   "outputs": [],
   "source": [
    "MM = DHAM.Initial_MM(sumtr, trvec, Biasing_Pot, states, trj_total, Temp)"
   ]
  },
  {
   "cell_type": "code",
   "execution_count": 81,
   "id": "30966d24-2c73-4411-9c90-bd4e26fae6c5",
   "metadata": {},
   "outputs": [
    {
     "name": "stdout",
     "output_type": "stream",
     "text": [
      "(200, 200)\n",
      "[0.         0.         0.         0.         0.         0.\n",
      " 0.         0.         0.         0.         0.         0.\n",
      " 0.         0.         0.         0.         0.         0.\n",
      " 0.         0.         0.         0.         0.         0.\n",
      " 0.         0.         0.         0.         0.         0.\n",
      " 0.         0.         0.         0.         0.         0.\n",
      " 0.         0.         0.         0.         0.         0.\n",
      " 0.         0.         0.         0.         0.         0.\n",
      " 0.         0.         0.         0.         0.         0.\n",
      " 0.         0.         0.         0.         0.         0.\n",
      " 0.         0.         0.         0.         0.         0.\n",
      " 0.         0.         0.         0.         0.         0.\n",
      " 0.         0.         0.         0.         0.         0.\n",
      " 0.         0.         0.         0.         0.         0.\n",
      " 0.         0.         0.         0.         0.         0.\n",
      " 0.         0.         0.         0.         0.         0.\n",
      " 0.         0.         0.         0.         0.         0.\n",
      " 0.         0.         0.         0.         0.         0.\n",
      " 0.         0.         0.         0.         0.         0.\n",
      " 0.         0.         0.         0.         0.         0.\n",
      " 0.         0.         0.         0.         0.         0.\n",
      " 0.         0.         0.         0.         0.         0.\n",
      " 0.         0.         0.         0.         0.         0.\n",
      " 0.         0.         0.         0.         0.         0.\n",
      " 0.         0.         0.         0.         0.         0.\n",
      " 0.         0.         0.         0.         0.         0.\n",
      " 0.         0.         0.         0.         0.         0.\n",
      " 0.         0.         0.         0.         0.         0.\n",
      " 0.         0.         0.         0.         0.         0.\n",
      " 0.         0.         0.         0.         0.         0.\n",
      " 0.         0.         0.         0.         0.         0.\n",
      " 0.         0.         0.         0.         0.         0.\n",
      " 0.00325178 0.00856376 0.02260129 0.04276047 0.0536435  0.04133833\n",
      " 0.0533136  0.77452727]\n"
     ]
    }
   ],
   "source": [
    "print(MM.shape)\n",
    "print(MM[-1])"
   ]
  },
  {
   "cell_type": "code",
   "execution_count": 82,
   "id": "79639d3a-8322-4882-b3ec-b7781c4d930e",
   "metadata": {},
   "outputs": [
    {
     "name": "stdout",
     "output_type": "stream",
     "text": [
      "1.0\n"
     ]
    }
   ],
   "source": [
    "print(np.sum(MM[0]))"
   ]
  },
  {
   "cell_type": "code",
   "execution_count": 92,
   "id": "2ae74900-7a9c-4224-a8dd-eadf5d7c2587",
   "metadata": {},
   "outputs": [],
   "source": [
    "M=MM\n",
    "d, v = eig(M.T)\n",
    "mpeq = v[:, np.where(d == np.max(d))[0][0]]\n",
    "mpeq = mpeq / np.sum(mpeq)\n",
    "mU2 = -303.15*1.9872041E-3 * np.log(mpeq)\n",
    "mU2 -= np.min(mU2[:int(len(states))])"
   ]
  },
  {
   "cell_type": "code",
   "execution_count": 93,
   "id": "78fa871b-641c-4828-85f1-b0b9746d3f45",
   "metadata": {},
   "outputs": [
    {
     "name": "stdout",
     "output_type": "stream",
     "text": [
      "[2.14510034+0.j 1.95939378+0.j 1.8720667 +0.j 1.96531993+0.j\n",
      " 2.14374344+0.j 2.15460541+0.j 2.01261694+0.j 1.94838322+0.j\n",
      " 2.02579442+0.j 2.16800099+0.j 2.17522738+0.j 2.06252529+0.j\n",
      " 2.04125655+0.j 2.1667299 +0.j 2.34351868+0.j 2.41482231+0.j\n",
      " 2.41942215+0.j 2.51047654+0.j 2.7172921 +0.j 2.96915438+0.j\n",
      " 3.03610322+0.j 2.97142717+0.j 3.01153381+0.j 3.20812677+0.j\n",
      " 3.46199767+0.j 3.60459148+0.j 3.6735615 +0.j 3.82328466+0.j\n",
      " 4.08634852+0.j 4.37180254+0.j 4.50404551+0.j 4.54072117+0.j\n",
      " 4.65168359+0.j 4.87665545+0.j 5.13579711+0.j 5.25109995+0.j\n",
      " 5.27852272+0.j 5.41910926+0.j 5.71180829+0.j 6.0413414 +0.j\n",
      " 6.19237758+0.j 6.2667573 +0.j 6.46791772+0.j 6.82986526+0.j\n",
      " 7.19452384+0.j 7.26539731+0.j 7.21913329+0.j 7.31448894+0.j\n",
      " 7.59287765+0.j 7.88000517+0.j 7.92196738+0.j 7.85487596+0.j\n",
      " 7.87756097+0.j 8.01107643+0.j 8.15242962+0.j 8.09489541+0.j\n",
      " 7.93356614+0.j 7.83621732+0.j 7.83385573+0.j 7.88735026+0.j\n",
      " 7.837208  +0.j 7.70812832+0.j 7.67247253+0.j 7.77624543+0.j\n",
      " 7.90442269+0.j 7.83784253+0.j 7.72078778+0.j 7.72029308+0.j\n",
      " 7.85747445+0.j 7.98841204+0.j 7.87972315+0.j 7.68524433+0.j\n",
      " 7.5977073 +0.j 7.63584517+0.j 7.67467593+0.j 7.53780052+0.j\n",
      " 7.37125275+0.j 7.32935526+0.j 7.43187409+0.j 7.52659247+0.j\n",
      " 7.3968245 +0.j 7.1907371 +0.j 7.09933546+0.j 7.15214085+0.j\n",
      " 7.18089011+0.j 6.95456223+0.j 6.65212535+0.j 6.47347836+0.j\n",
      " 6.43177329+0.j 6.37283859+0.j 6.09006388+0.j 5.73341748+0.j\n",
      " 5.47170953+0.j 5.31310979+0.j 5.15605174+0.j 4.81023495+0.j\n",
      " 4.40604779+0.j 4.12197109+0.j 3.98856917+0.j 3.86706472+0.j\n",
      " 3.54795889+0.j 3.19910288+0.j 3.00992801+0.j 2.98525179+0.j\n",
      " 2.93625003+0.j 2.62331968+0.j 2.27266325+0.j 2.0955195 +0.j\n",
      " 2.08109193+0.j 2.06081217+0.j 1.82193914+0.j 1.57791634+0.j\n",
      " 1.50988312+0.j 1.60810916+0.j 1.64546988+0.j 1.43254473+0.j\n",
      " 1.21139541+0.j 1.14388008+0.j 1.22425665+0.j 1.24680619+0.j\n",
      " 1.01499089+0.j 0.78224178+0.j 0.71969319+0.j 0.81554036+0.j\n",
      " 0.85211325+0.j 0.63956374+0.j 0.43381165+0.j 0.37720199+0.j\n",
      " 0.43676883+0.j 0.45531127+0.j 0.31825406+0.j 0.18635283+0.j\n",
      " 0.1656287 +0.j 0.2298888 +0.j 0.24625057+0.j 0.14175749+0.j\n",
      " 0.05143323+0.j 0.07044146+0.j 0.1684361 +0.j 0.20465967+0.j\n",
      " 0.0871296 +0.j 0.        +0.j 0.05617777+0.j 0.22701194+0.j\n",
      " 0.31465932+0.j 0.22312428+0.j 0.15503037+0.j 0.23417419+0.j\n",
      " 0.42481786+0.j 0.53109922+0.j 0.45700907+0.j 0.40023471+0.j\n",
      " 0.48592185+0.j 0.66613773+0.j 0.76435861+0.j 0.6792069 +0.j\n",
      " 0.63067315+0.j 0.73357264+0.j 0.93198388+0.j 1.02919786+0.j\n",
      " 0.94398353+0.j 0.89695332+0.j 0.9850041 +0.j 1.16688239+0.j\n",
      " 1.25155354+0.j 1.17893283+0.j 1.13847862+0.j 1.23902029+0.j\n",
      " 1.43187345+0.j 1.52225913+0.j 1.44932169+0.j 1.42189135+0.j\n",
      " 1.53048926+0.j 1.730216  +0.j 1.80982132+0.j 1.73275589+0.j\n",
      " 1.6935946 +0.j 1.7960199 +0.j 1.98599713+0.j 2.05321619+0.j\n",
      " 1.95714182+0.j 1.89548399+0.j 1.97604561+0.j 2.1417025 +0.j\n",
      " 2.18532633+0.j 2.07170207+0.j 2.00981249+0.j 2.08573352+0.j\n",
      " 2.23293182+0.j 2.25217428+0.j 2.12811672+0.j 2.06213292+0.j\n",
      " 2.13511742+0.j 2.28118777+0.j 2.29979755+0.j 2.16888709+0.j\n",
      " 2.10771666+0.j 2.21571538+0.j 2.45779265+0.j 1.82911682+0.j]\n"
     ]
    }
   ],
   "source": [
    "print(mU2)"
   ]
  },
  {
   "cell_type": "code",
   "execution_count": 94,
   "id": "f5b8ba19-3fa9-48c5-8bc5-9643277b3b0c",
   "metadata": {},
   "outputs": [
    {
     "data": {
      "image/png": "[encoded data removed]",
      "text/plain": [
       "<Figure size 640x480 with 1 Axes>"
      ]
     },
     "metadata": {},
     "output_type": "display_data"
    }
   ],
   "source": [
    "plt.plot(states, mU2*4.184)\n",
    "plt.show()"
   ]
  },
  {
   "cell_type": "code",
   "execution_count": null,
   "id": "23ded2d3-c9ef-41f6-b9c3-4a03657515e9",
   "metadata": {},
   "outputs": [],
   "source": []
  },
  {
   "cell_type": "code",
   "execution_count": null,
   "id": "675d8946-c68f-492d-9387-2a624122f201",
   "metadata": {},
   "outputs": [],
   "source": []
  },
  {
   "cell_type": "code",
   "execution_count": null,
   "id": "904362e0-ddbd-4e4a-b3b4-51f95294b705",
   "metadata": {},
   "outputs": [],
   "source": []
  },
  {
   "cell_type": "code",
   "execution_count": null,
   "id": "d10aba5a-babf-42ce-a41b-d6113dbedb2d",
   "metadata": {},
   "outputs": [],
   "source": []
  },
  {
   "cell_type": "code",
   "execution_count": null,
   "id": "c5442f9a-57b4-47b7-af56-5ad153d57fe6",
   "metadata": {},
   "outputs": [],
   "source": []
  },
  {
   "cell_type": "code",
   "execution_count": null,
   "id": "76f13b70-55c4-4a97-aaf6-3fa967aced55",
   "metadata": {},
   "outputs": [],
   "source": []
  },
  {
   "cell_type": "code",
   "execution_count": null,
   "id": "22dd2796-1db9-46df-bc98-ad6ff51ace56",
   "metadata": {},
   "outputs": [],
   "source": []
  },
  {
   "cell_type": "code",
   "execution_count": null,
   "id": "2f938b14-8b1d-4f2e-a556-c8a6d47cd1ed",
   "metadata": {},
   "outputs": [],
   "source": []
  }
 ],
 "metadata": {
  "kernelspec": {
   "display_name": "Python 3 (ipykernel)",
   "language": "python",
   "name": "python3"
  },
  "language_info": {
   "codemirror_mode": {
    "name": "ipython",
    "version": 3
   },
   "file_extension": ".py",
   "mimetype": "text/x-python",
   "name": "python",
   "nbconvert_exporter": "python",
   "pygments_lexer": "ipython3",
   "version": "3.12.3"
  }
 },
 "nbformat": 4,
 "nbformat_minor": 5
}
